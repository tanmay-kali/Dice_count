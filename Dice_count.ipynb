{
 "cells": [
  {
   "cell_type": "code",
   "execution_count": 3,
   "metadata": {},
   "outputs": [],
   "source": [
    "from selenium import webdriver\n",
    "driver=webdriver.Chrome()\n",
    "from bs4 import BeautifulSoup\n",
    "import urllib\n",
    "import requests\n",
    "import pandas as pd\n",
    "def url_calling(dice_num):\n",
    "    dy_url='https://www.random.org/dice/?num='\n",
    "    final=dy_url+str(dice_num)\n",
    "    driver.get(final)\n",
    "    headers = {\"User-Agent\": \"Mozilla/5.0 (Macintosh; Intel Mac OS X 10.14; rv:66.0) Gecko/20100101 Firefox/66.0\", \"Accept\": \"text/html,application/xhtml+xml,application/xml;q=0.9,*/*;q=0.8\", \"Accept-Language\": \"en-US,en;q=0.5\", \"Accept-Encoding\": \"gzip, deflate\", \"DNT\": \"1\", \"Connection\": \"close\", \"Upgrade-Insecure-Requests\": \"1\"}\n",
    "    url =driver.current_url\n",
    "    response = requests.get(url,headers=headers)\n",
    "    content = response.content\n",
    "    global soup\n",
    "    soup = BeautifulSoup(response.text, 'html.parser')"
   ]
  },
  {
   "cell_type": "code",
   "execution_count": 10,
   "metadata": {},
   "outputs": [
    {
     "name": "stdout",
     "output_type": "stream",
     "text": [
      "Please give Answer as A,B or C b\n",
      "Data Table for Simulation\n",
      "   Year  Births  Deaths  Population\n",
      "0     1       7       4          20\n",
      "1     2       7       8          23\n",
      "2     3       7       6          22\n",
      "3     4       2       3          23\n",
      "4     5       7       7          22\n",
      "5     6       7       6          22\n",
      "6     7       5       3          23\n",
      "7     8       6       3          25\n",
      "8     9       8       4          28\n",
      "9    10       7       8          32\n"
     ]
    }
   ],
   "source": [
    "dice_num=20\n",
    "def dy_number():\n",
    "    global d1,d2,d3,d4,d5,d6\n",
    "    d1=len(soup.find_all(alt='1'))\n",
    "    d2=len(soup.find_all(alt='2'))\n",
    "    d3=len(soup.find_all(alt='3'))\n",
    "    d4=len(soup.find_all(alt='4'))\n",
    "    d5=len(soup.find_all(alt='5'))\n",
    "    d6=len(soup.find_all(alt='6'))\n",
    "sim_type=input(\"Please give Answer as A,B or C \")\n",
    "Ab=[]\n",
    "Ad=[]\n",
    "Ap=[]\n",
    "if sim_type == 'A':\n",
    "    i=0\n",
    "    while(i<10):\n",
    "        url_calling(dice_num)\n",
    "        dy_number()\n",
    "        deaths=d1\n",
    "        births=d2+d3\n",
    "        Ab.append(births)\n",
    "        Ad.append(deaths)\n",
    "        Ap.append(dice_num)\n",
    "        dice_num=dice_num+births-deaths\n",
    "        if(dice_num>60):\n",
    "            print(\"Number of Dice Greater than 60 click on Retry\")\n",
    "        i=i+1\n",
    "if sim_type == 'B' or 'b':\n",
    "    i=0\n",
    "    while(i<10):\n",
    "        url_calling(dice_num)\n",
    "        dy_number()\n",
    "        deaths=d1+ round((d3/2))\n",
    "        births=d2+ round((d3/2))\n",
    "        Ab.append(births)\n",
    "        Ad.append(deaths)\n",
    "        Ap.append(dice_num)\n",
    "        dice_num=dice_num+births-deaths\n",
    "        i=i+1\n",
    "if sim_type == 'C':\n",
    "    i=0\n",
    "    while(i<10):\n",
    "        url_calling(dice_num)\n",
    "        dy_number()\n",
    "        deaths=d1\n",
    "        births=d2\n",
    "        Ab.append(births)\n",
    "        Ad.append(deaths)\n",
    "        Ap.append(dice_num)\n",
    "        dice_num=dice_num+births-deaths\n",
    "        i=i+1\n",
    "def show_data():\n",
    "    d = {'Year': [1, 2,3,4,5,6,7,8,9,10], 'Births': Ab,'Deaths':Ad, 'Population' : Ap}\n",
    "    df = pd.DataFrame(data=d)\n",
    "    print(\"Data Table for Simulation\",)\n",
    "    print(df)\n",
    "    \n",
    "show_data()"
   ]
  },
  {
   "cell_type": "code",
   "execution_count": null,
   "metadata": {},
   "outputs": [],
   "source": []
  },
  {
   "cell_type": "code",
   "execution_count": null,
   "metadata": {},
   "outputs": [],
   "source": []
  },
  {
   "cell_type": "code",
   "execution_count": null,
   "metadata": {},
   "outputs": [],
   "source": []
  }
 ],
 "metadata": {
  "kernelspec": {
   "display_name": "Python 3",
   "language": "python",
   "name": "python3"
  },
  "language_info": {
   "codemirror_mode": {
    "name": "ipython",
    "version": 3
   },
   "file_extension": ".py",
   "mimetype": "text/x-python",
   "name": "python",
   "nbconvert_exporter": "python",
   "pygments_lexer": "ipython3",
   "version": "3.6.6"
  }
 },
 "nbformat": 4,
 "nbformat_minor": 4
}
